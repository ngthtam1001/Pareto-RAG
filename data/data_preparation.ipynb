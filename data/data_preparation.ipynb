{
 "cells": [
  {
   "cell_type": "markdown",
   "id": "a39bae11",
   "metadata": {},
   "source": [
    "## Setup"
   ]
  },
  {
   "cell_type": "code",
   "execution_count": 1,
   "id": "a0cc188e",
   "metadata": {},
   "outputs": [],
   "source": [
    "from datasets import load_dataset\n",
    "from typing import List\n",
    "import pandas as pd"
   ]
  },
  {
   "cell_type": "markdown",
   "id": "9666452a",
   "metadata": {},
   "source": [
    "### 1. Download HotpotQA from HuggingFace"
   ]
  },
  {
   "cell_type": "code",
   "execution_count": 2,
   "id": "e699f963",
   "metadata": {},
   "outputs": [
    {
     "name": "stderr",
     "output_type": "stream",
     "text": [
      "c:\\Users\\admin\\anaconda3\\Lib\\site-packages\\datasets\\load.py:1486: FutureWarning: The repository for hotpot_qa contains custom code which must be executed to correctly load the dataset. You can inspect the repository content at https://hf.co/datasets/hotpot_qa\n",
      "You can avoid this message in future by passing the argument `trust_remote_code=True`.\n",
      "Passing `trust_remote_code=True` will be mandatory to load this dataset from the next major release of `datasets`.\n",
      "  warnings.warn(\n"
     ]
    }
   ],
   "source": [
    "df = load_dataset(\"hotpot_qa\", \"fullwiki\")"
   ]
  },
  {
   "cell_type": "code",
   "execution_count": 19,
   "id": "f8b32f8b",
   "metadata": {},
   "outputs": [
    {
     "data": {
      "text/plain": [
       "{'id': '5a8eb1f05542995a26add4e8',\n",
       " 'question': 'While Trachycarpus is a genus of palms, what is Nemesia a genus of?',\n",
       " 'answer': 'annuals, perennials and sub-shrubs',\n",
       " 'type': 'comparison',\n",
       " 'level': 'easy',\n",
       " 'supporting_facts': {'title': ['Trachycarpus', 'Nemesia (plant)'],\n",
       "  'sent_id': [0, 0]},\n",
       " 'context': {'title': ['Nemesia (plant)',\n",
       "   'Trachycarpus',\n",
       "   'Climbing palm',\n",
       "   'Calyptrocalyx',\n",
       "   'Trachycarpus oreophilus',\n",
       "   'Phytelephas',\n",
       "   'Roystonea',\n",
       "   'Attalea (palm)',\n",
       "   'Trachycarpus martianus',\n",
       "   'Bentinckia'],\n",
       "  'sentences': [['Nemesia is a genus of annuals, perennials and sub-shrubs which are native to sandy coasts or disturbed ground in South Africa.',\n",
       "    ' Numerous hybrids have been selected, and the annual cultivars are popular with gardeners as bedding plants.',\n",
       "    ' In temperate regions the annual cultivars are usually treated as half-hardy bedding plants, sown from seed in heat and planted out after all danger of frost has passed.'],\n",
       "   ['Trachycarpus is a genus of nine species of palms native to Asia, from the Himalaya east to eastern China.',\n",
       "    ' They are fan palms (Arecaceae tribe Corypheae), with the leaves with a bare petiole terminating in a rounded fan of numerous leaflets.',\n",
       "    ' The leaf bases produce persistent fibres that often give the trunk a characteristic hairy appearance.',\n",
       "    ' All species are dioecious, with male and female flowers produced on separate plants although female plants will sometimes produce male flowers, allowing occasional self-pollination.'],\n",
       "   ['Climbing palms are genera in the family Arecaceae that grow as lianas. \"Initially erect, the slender stems seek out trees for support and climb up into the forest canopy by means of recurved hooks and spines growing on the stem, leaves and inflorescences.',\n",
       "    ' In all climbing palms the leaves are pinnate and grow along the stem instead of forming a dense crown.',\n",
       "    ' The stems of climbing palms, more often referred to as canes, are solid in contrast to bamboo poles which are almost always hollow.\"',\n",
       "    ' \"The majority of climbing palms are also clumping palms <nowiki>[and sympodial]</nowiki>, sending out new shoots from <nowiki>[below ground as suckers]</nowiki>.\"',\n",
       "    ' \"About 600 species of palms in <nowiki>[16]</nowiki> genera have a climbing growth habit.',\n",
       "    ' Most noteworthy is the genus \"Calamus\"--the largest genus in the palm family with approximately 350 described species--source of nearly all commercial rattan.\"'],\n",
       "   ['Calyptrocalyx is a monoecious genus of flowering plant in the palm family found in Papua New Guinea and the nearby Maluku Islands.',\n",
       "    ' Ranging from small to large, the palms in this genus are increasingly found in cultivation owing largely to their purple, red, and orange colored, new foliage.',\n",
       "    ' At least 26 species have been described while others, known only by local names, have not yet received a taxonomic account.',\n",
       "    ' Palms formerly classified within Paralinospadix have been incorporated into this genus.',\n",
       "    \" It is named from 2 Greek words meaning 'covered' and 'calyx'.\"],\n",
       "   ['Trachycarpus oreophilus (also known as Thai mountain fan palm) is a species in the genus \"Trachycarpus\".',\n",
       "    ' It is known from two distinct populations, one in northwest Thailand, the other in Manipur in northeastern India.',\n",
       "    ' The Manipur population was formerly considered a separate species.'],\n",
       "   ['Phytelephas is a genus containing six known species of palms (family Arecaceae), occurring from southern Panama along the Andes to Ecuador, Bolivia, Colombia, northwestern Brazil, and Peru.',\n",
       "    ' They are commonly known as ivory palms, ivory-nut palms or tagua palms; the scientific name \"Phytelephas\" means \"plant elephant\".',\n",
       "    ' This and the first two of the common names refer to the very hard white endosperm of their seeds (tagua nuts or jarina seeds), which resembles elephant ivory.'],\n",
       "   ['Roystonea is a genus of eleven species of monoecious palms, native to the Caribbean Islands, and the adjacent coasts of Florida and Central and northern South America.',\n",
       "    ' Commonly known as the royal palms, the genus was named for Roy Stone, a U.S. Army engineer.',\n",
       "    ' It contains some of the most recognizable and commonly cultivated palms in tropical and subtropical regions.'],\n",
       "   ['Attalea is a large genus of palms native to Mexico, the Caribbean, Central and South America.',\n",
       "    ' This pinnately leaved, non-spiny genus includes both small palms lacking an aboveground stem and large trees.',\n",
       "    ' The genus has a complicated taxonomic history, and has often been split into four or five genera based on differences in the male flowers.',\n",
       "    ' Since the genera can only be distinguished on the basis of their male flowers, the existence of intermediate flower types and the existence of hybrids between different genera has been used as an argument for keeping them all in the same genus.',\n",
       "    ' This has been supported by a recent molecular phylogeny.'],\n",
       "   ['Trachycarpus martianus (also known as Martius\\' fan palm) is a species in the genus \"Trachycarpus\" from two distinct populations, one at 1500 m in the Khasia Hills, Meghalaya Province, in northeast India, the other at 2400 m in central northern Nepal.',\n",
       "    ' Other populations have been reported in Assam, Sikkim, Burma and southern China.',\n",
       "    ' The main identifying characteristics are the regular leaf splits (to about half way), the coffee bean shaped seeds (similar looking to \"Trachycarpus latisectus\") and the bare, as opposed to fibrous trunk.',\n",
       "    ' The new leaf spear and edges of the petioles are covered with a white tomentum.'],\n",
       "   ['Bentinckia is a genus of palms in the Arecaceae family.',\n",
       "    ' The genus is named after William Henry Cavendish-Bentinck a colonial governor general of British India.',\n",
       "    ' There are two species of palms in this genus namely \"Bentinckia condapanna\" and \"Bentinckia nicobarica\".']]}}"
      ]
     },
     "execution_count": 19,
     "metadata": {},
     "output_type": "execute_result"
    }
   ],
   "source": [
    "df['train'][32221]"
   ]
  },
  {
   "cell_type": "markdown",
   "id": "26711dd6",
   "metadata": {},
   "source": [
    "### 2. Transform JSON format to table "
   ]
  },
  {
   "cell_type": "code",
   "execution_count": 4,
   "id": "a0898d47",
   "metadata": {},
   "outputs": [],
   "source": [
    "def generate_chunks(title: List[str], sentences: List[List[str]]) -> dict:\n",
    "    chunk_dict = {}\n",
    "    for i, title_text in enumerate(title):\n",
    "        chunks = [f\"{title_text} {sentence}\" for sentence in sentences[i]]\n",
    "        if title_text not in chunk_dict:\n",
    "            chunk_dict[title_text] = chunks\n",
    "        else:\n",
    "            chunk_dict[title_text].extend(chunks)\n",
    "    return chunk_dict"
   ]
  },
  {
   "cell_type": "code",
   "execution_count": 5,
   "id": "6222f2bd",
   "metadata": {},
   "outputs": [],
   "source": [
    "validation_data = {\n",
    "    'question_id': [],\n",
    "    'question': [],\n",
    "    'answer': [],\n",
    "    'type': [],\n",
    "    'level': [],\n",
    "    'chunks': []  \n",
    "}\n",
    "\n",
    "for item in df['validation']:\n",
    "    try:\n",
    "        chunks_dict = generate_chunks(\n",
    "            item['context']['title'],\n",
    "            item['context']['sentences']\n",
    "        )\n",
    "        \n",
    "        validation_data['question_id'].append(item['id'])\n",
    "        validation_data['question'].append(item['question'])\n",
    "        validation_data['answer'].append(item['answer'])\n",
    "        validation_data['type'].append(item['type'])\n",
    "        validation_data['level'].append(item['level'])\n",
    "        validation_data['chunks'].append(chunks_dict)\n",
    "        \n",
    "    except KeyError as e:\n",
    "        print(f\"KeyError for question ID {item['id']}: {str(e)}\")\n",
    "\n",
    "validation_df = pd.DataFrame(validation_data)"
   ]
  },
  {
   "cell_type": "code",
   "execution_count": 17,
   "id": "5fbfe90d",
   "metadata": {},
   "outputs": [],
   "source": [
    "validation_df.to_csv('validation_data.csv', index=False)"
   ]
  }
 ],
 "metadata": {
  "kernelspec": {
   "display_name": "base",
   "language": "python",
   "name": "python3"
  },
  "language_info": {
   "codemirror_mode": {
    "name": "ipython",
    "version": 3
   },
   "file_extension": ".py",
   "mimetype": "text/x-python",
   "name": "python",
   "nbconvert_exporter": "python",
   "pygments_lexer": "ipython3",
   "version": "3.12.4"
  }
 },
 "nbformat": 4,
 "nbformat_minor": 5
}
